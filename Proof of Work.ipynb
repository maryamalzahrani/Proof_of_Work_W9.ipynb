{
  "nbformat": 4,
  "nbformat_minor": 0,
  "metadata": {
    "colab": {
      "name": "Untitled4.ipynb",
      "provenance": [],
      "collapsed_sections": [],
      "include_colab_link": true
    },
    "kernelspec": {
      "name": "python3",
      "display_name": "Python 3"
    },
    "language_info": {
      "name": "python"
    }
  },
  "cells": [
    {
      "cell_type": "markdown",
      "metadata": {
        "id": "view-in-github",
        "colab_type": "text"
      },
      "source": [
        "<a href=\"https://colab.research.google.com/github/maryamalzahrani/Proof_of_Work_W9.ipynb/blob/main/Proof%20of%20Work.ipynb\" target=\"_parent\"><img src=\"https://colab.research.google.com/assets/colab-badge.svg\" alt=\"Open In Colab\"/></a>"
      ]
    },
    {
      "cell_type": "code",
      "metadata": {
        "colab": {
          "base_uri": "https://localhost:8080/"
        },
        "id": "vJdy31m_xX7w",
        "outputId": "01b59cd1-fac5-40ed-8dda-adee0983fa6e"
      },
      "source": [
        "import hashlib # imports library with SHA-256 hashing algo\n",
        "import datetime # imports library to track time\n",
        "t1 = datetime.datetime.now() # start timecopy\n",
        "nonce = 1 # Starts the nonce at 1\n",
        "solution = False\n",
        "while solution == False: # loop until true\n",
        "    ourhash = hashlib.sha256(str(nonce).encode()).hexdigest() # inputs nonce into hash function\n",
        "    if ourhash[:7] == '0000000': # look for hash with 7 proceeding zeros\n",
        "        solution =True # those who find the solution will have 'proved' they put in 'work'\n",
        "    nonce +=1 # increase nonce by 1 and try again\n",
        "t2 = datetime.datetime.now() # end time\n",
        "duration = t2 - t1 # time elapsed\n",
        "print (\"The hash is:\",ourhash)\n",
        "print (\"The nonce is:\",nonce)    \n",
        "print (\"Time elapsed:\",duration)"
      ],
      "execution_count": null,
      "outputs": [
        {
          "output_type": "stream",
          "name": "stdout",
          "text": [
            "The hash is: 0000000399c6aea5ad0c709a9bc331a3ed6494702bd1d129d8c817a0257a1462\n",
            "The nonce is: 665783\n",
            "Time elapsed: 0:00:01.027135\n"
          ]
        }
      ]
    },
    {
      "cell_type": "code",
      "metadata": {
        "colab": {
          "base_uri": "https://localhost:8080/"
        },
        "id": "tMNLs-X5xgje",
        "outputId": "c853f34d-2e31-4993-d82f-8d4055528652"
      },
      "source": [
        "import hashlib # imports library with SHA-256 hashing algo\n",
        "import datetime # imports library to track time\n",
        "t1 = datetime.datetime.now() # start timecopy\n",
        "nonce = 1 # Starts the nonce at 1\n",
        "solution = False\n",
        "while solution == False: # loop until true\n",
        "    ourhash = hashlib.sha256(str(nonce).encode()).hexdigest() # inputs nonce into hash function\n",
        "    if ourhash[:8] == '00000000': # look for hash with 8 proceeding zeros\n",
        "        solution =True # those who find the solution will have 'proved' they put in 'work'\n",
        "    nonce +=1 # increase nonce by 1 and try again\n",
        "t2 = datetime.datetime.now() # end time\n",
        "duration = t2 - t1 # time elapsed\n",
        "print (\"The hash is:\",ourhash)\n",
        "print (\"The nonce is:\",nonce)    \n",
        "print (\"Time elapsed:\",duration)"
      ],
      "execution_count": null,
      "outputs": [
        {
          "output_type": "stream",
          "name": "stdout",
          "text": [
            "The hash is: 00000000690ed426ccf17803ebe2bd0884bcd58a1bb5e7477ead3645f356e7a9\n",
            "The nonce is: 426479725\n",
            "Time elapsed: 0:10:27.962270\n"
          ]
        }
      ]
    }
  ]
}